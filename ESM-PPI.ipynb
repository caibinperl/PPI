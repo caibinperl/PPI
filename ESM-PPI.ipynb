{
 "cells": [
  {
   "cell_type": "code",
   "execution_count": null,
   "id": "e82e84cfffdc9f7c",
   "metadata": {},
   "outputs": [],
   "source": [
    "import torch\n",
    "import torch.nn as nn\n",
    "from transformers import EsmModel, EsmTokenizer\n",
    "import warnings"
   ]
  },
  {
   "cell_type": "code",
   "execution_count": null,
   "id": "ff43678d",
   "metadata": {},
   "outputs": [],
   "source": [
    "model_name = \"facebook/esm2_t33_650M_UR50D\"\n",
    "\n",
    "esm = EsmModel.from_pretrained(\n",
    "    model_name,\n",
    "    add_pooling_layer=False  # 关键：不使用pooler层\n",
    ")\n",
    "\n"
   ]
  },
  {
   "cell_type": "code",
   "execution_count": null,
   "id": "1d42ecae",
   "metadata": {},
   "outputs": [],
   "source": [
    "tokenizer = EsmTokenizer.from_pretrained(model_name)\n",
    "sequence = \"MALWMRLLPLLALLALWGPDPAAAFVNQHLCGSHLVEALYLVCGERGFFYTPKTRREAED\"\n",
    "\n",
    "inputs = tokenizer(\n",
    "    sequence,\n",
    "    return_tensors=\"pt\",\n",
    "    padding=True,\n",
    "    truncation=True,\n",
    "    max_length=1024\n",
    ")"
   ]
  },
  {
   "cell_type": "code",
   "execution_count": null,
   "id": "909212b2",
   "metadata": {},
   "outputs": [],
   "source": [
    "\n",
    "\n",
    "# 忽略警告\n",
    "warnings.filterwarnings(\"ignore\")\n",
    "\n",
    "class PPIModel(nn.Module):\n",
    "    def __init__(self, model_name=\"facebook/esm2_t33_650M_UR50D\", hidden_dim=512, dropout=0.1):\n",
    "        super(PPIModel, self).__init__()\n",
    "        \n",
    "        # 加载ESM模型，不添加pooling层\n",
    "        self.esm = EsmModel.from_pretrained(\n",
    "            model_name, \n",
    "            add_pooling_layer=False  # 关键：不使用pooler层\n",
    "        )\n",
    "        self.tokenizer = EsmTokenizer.from_pretrained(model_name)\n",
    "        \n",
    "        esm_dim = self.esm.config.hidden_size\n",
    "        \n",
    "        # 自定义的交互分类器\n",
    "        self.classifier = nn.Sequential(\n",
    "            nn.Linear(esm_dim * 2, hidden_dim),  # 两个蛋白质的表示拼接\n",
    "            nn.ReLU(),\n",
    "            nn.Dropout(dropout),\n",
    "            nn.Linear(hidden_dim, hidden_dim // 2),\n",
    "            nn.ReLU(),\n",
    "            nn.Dropout(dropout),\n",
    "            nn.Linear(hidden_dim // 2, 1),  # 二分类输出\n",
    "            nn.Sigmoid()\n",
    "        )\n",
    "        \n",
    "    def forward(self, seq_a, seq_b):\n",
    "        # 获取蛋白质A的表示\n",
    "        emb_a = self._get_protein_embedding(seq_a)\n",
    "        # 获取蛋白质B的表示  \n",
    "        emb_b = self._get_protein_embedding(seq_b)\n",
    "        \n",
    "        # 拼接两个表示并分类\n",
    "        combined = torch.cat([emb_a, emb_b], dim=-1)\n",
    "        output = self.classifier(combined)\n",
    "        return output.squeeze()\n",
    "    \n",
    "    def _get_protein_embedding(self, sequence):\n",
    "        \"\"\"提取蛋白质序列的嵌入表示\"\"\"\n",
    "        inputs = self.tokenizer(\n",
    "            sequence, \n",
    "            return_tensors=\"pt\", \n",
    "            padding=True, \n",
    "            truncation=True,\n",
    "            max_length=1024\n",
    "        )\n",
    "        \n",
    "        # 将输入移动到模型所在的设备\n",
    "        inputs = {k: v.to(next(self.esm.parameters()).device) for k, v in inputs.items()}\n",
    "        \n",
    "        with torch.no_grad():\n",
    "            outputs = self.esm(**inputs)\n",
    "        \n",
    "        # 使用平均池化获取整个序列的表示\n",
    "        sequence_embedding = outputs.last_hidden_state.mean(dim=1)\n",
    "        return sequence_embedding\n"
   ]
  },
  {
   "cell_type": "code",
   "execution_count": null,
   "id": "6acca681",
   "metadata": {},
   "outputs": [],
   "source": [
    "model = PPIModel()\n",
    "    \n",
    "# 示例蛋白质序列\n",
    "protein_a = \"MALWMRLLPLLALLALWGPDPAAAFVNQHLCGSHLVEALYLVCGERGFFYTPKTRREAED\"\n",
    "protein_b = \"GIVEQCCTSICSLYQLENYCN\"\n",
    "\n",
    "# 预测互作概率\n",
    "with torch.no_grad():\n",
    "    probability = model(protein_a, protein_b)\n",
    "    print(f\"相互作用概率: {probability.item():.4f}\")"
   ]
  },
  {
   "cell_type": "code",
   "execution_count": null,
   "id": "b3eaf0f9",
   "metadata": {},
   "outputs": [],
   "source": [
    "# 加载中等规模的ESM-2模型\n",
    "model_name = \"facebook/esm2_t33_650M_UR50D\"\n",
    "tokenizer = EsmTokenizer.from_pretrained(model_name)\n",
    "model = EsmModel.from_pretrained(model_name)"
   ]
  },
  {
   "cell_type": "code",
   "execution_count": null,
   "id": "d9506e8a",
   "metadata": {},
   "outputs": [],
   "source": [
    "# 准备蛋白质序列\n",
    "sequence = \"MALWMRLLPLLALLALWGPDPAAAFVNQHLCGSHLVEALYLVCGERGFFYTPKTRREAED\"\n",
    "\n",
    "# 编码和推理\n",
    "inputs = tokenizer(sequence, return_tensors=\"pt\", padding=True, truncation=True)\n"
   ]
  },
  {
   "cell_type": "code",
   "execution_count": null,
   "id": "f79970c2",
   "metadata": {},
   "outputs": [],
   "source": [
    "inputs"
   ]
  },
  {
   "cell_type": "code",
   "execution_count": null,
   "id": "b3e53959",
   "metadata": {},
   "outputs": [],
   "source": [
    "with torch.no_grad():\n",
    "    outputs = model(**inputs)\n",
    "    \n",
    "print(\"安装成功！模型输出形状:\", outputs.last_hidden_state.shape)"
   ]
  }
 ],
 "metadata": {
  "kernelspec": {
   "display_name": "torch",
   "language": "python",
   "name": "python3"
  },
  "language_info": {
   "codemirror_mode": {
    "name": "ipython",
    "version": 3
   },
   "file_extension": ".py",
   "mimetype": "text/x-python",
   "name": "python",
   "nbconvert_exporter": "python",
   "pygments_lexer": "ipython3",
   "version": "3.12.3"
  }
 },
 "nbformat": 4,
 "nbformat_minor": 5
}
