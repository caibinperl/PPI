{
 "cells": [
  {
   "cell_type": "code",
   "execution_count": null,
   "id": "8aa0341c",
   "metadata": {
    "ExecuteTime": {
     "end_time": "2025-08-30T14:43:27.714300Z",
     "start_time": "2025-08-30T14:43:18.441974Z"
    }
   },
   "outputs": [],
   "source": [
    "import os\n",
    "import numpy as np\n",
    "import h5py\n",
    "import random"
   ]
  },
  {
   "cell_type": "code",
   "execution_count": 2,
   "id": "fa827940f84f901c",
   "metadata": {},
   "outputs": [],
   "source": [
    "class seq2tensor(object):\n",
    "    def __init__(self, filename):\n",
    "        self.t2v = {}\n",
    "        self.dim = None\n",
    "        with open(filename, \"r\") as fin:\n",
    "            for line in fin:\n",
    "                line = line.strip().split(\"\\t\")\n",
    "                t = line[0]\n",
    "                v = np.array([float(x) for x in line[1].split()])\n",
    "                if self.dim is None:\n",
    "                    self.dim = len(v)\n",
    "                else:\n",
    "                    v = v[:self.dim]\n",
    "                self.t2v[t] = v\n",
    "\n",
    "    def embed(self, seq):\n",
    "        if seq.find(\" \") > 0:\n",
    "            s = seq.strip().split()\n",
    "        else:\n",
    "            s = list(seq.strip())\n",
    "        rst = []\n",
    "        for x in s:\n",
    "            v = self.t2v.get(x)\n",
    "            if v is None:\n",
    "                continue\n",
    "            rst.append(v)\n",
    "        return np.array(rst)\n",
    "\n",
    "    def embed_normalized(self, seq, seq_size):\n",
    "        rst = self.embed(seq)\n",
    "        if len(rst) > seq_size:\n",
    "            return rst[:seq_size]\n",
    "        elif len(rst) < seq_size:\n",
    "            return np.concatenate((rst, np.zeros((seq_size - len(rst), self.dim))))\n",
    "        return rst"
   ]
  },
  {
   "cell_type": "code",
   "execution_count": null,
   "id": "c2290093",
   "metadata": {
    "ExecuteTime": {
     "end_time": "2025-08-30T14:44:32.458102Z",
     "start_time": "2025-08-30T14:44:32.318254Z"
    }
   },
   "outputs": [],
   "source": [
    "spe = \"yeast1\"\n",
    "\n",
    "data_dir = \"ppi-data\"\n",
    "\n",
    "seed = 1234\n",
    "np.random.seed(seed)\n",
    "random.seed(seed)\n",
    "\n",
    "seq_file = os.path.join(data_dir, spe, \"seq.tsv\")\n",
    "emb_file = os.path.join(data_dir, \"embedding/vec5_CTC.txt\")\n",
    "action_file = os.path.join(data_dir, spe, \"action.tsv\")\n",
    "embedding_h5 = os.path.join(data_dir, spe, \"embedding.h5\")\n"
   ]
  },
  {
   "cell_type": "code",
   "execution_count": 4,
   "id": "6324149f",
   "metadata": {
    "ExecuteTime": {
     "end_time": "2025-08-30T14:44:41.471109Z",
     "start_time": "2025-08-30T14:44:34.769472Z"
    }
   },
   "outputs": [],
   "source": [
    "seq2t = seq2tensor(emb_file)\n",
    "id2seq = {}\n",
    "\n",
    "with open(seq_file, \"r\") as fin, h5py.File(embedding_h5, \"w\") as h5fout:\n",
    "    for line in fin:\n",
    "        line = line.strip()\n",
    "        if not line:\n",
    "            continue\n",
    "        ss = line.split(\"\\t\")\n",
    "        id = ss[0]\n",
    "        seq = ss[1]\n",
    "        id2seq[id] = seq\n",
    "        x = seq2t.embed(seq)\n",
    "        if id not in h5fout:\n",
    "            dset = h5fout.require_dataset(\n",
    "                id,\n",
    "                shape=x.shape,\n",
    "                dtype=\"float32\",\n",
    "                compression=\"lzf\",\n",
    "            )\n",
    "            dset[:] = x\n"
   ]
  }
 ],
 "metadata": {
  "kernelspec": {
   "display_name": "torch",
   "language": "python",
   "name": "python3"
  },
  "language_info": {
   "codemirror_mode": {
    "name": "ipython",
    "version": 3
   },
   "file_extension": ".py",
   "mimetype": "text/x-python",
   "name": "python",
   "nbconvert_exporter": "python",
   "pygments_lexer": "ipython3",
   "version": "3.12.3"
  }
 },
 "nbformat": 4,
 "nbformat_minor": 5
}
