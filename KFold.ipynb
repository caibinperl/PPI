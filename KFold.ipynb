{
 "cells": [
  {
   "cell_type": "code",
   "execution_count": 3,
   "id": "1ba44d16dcdea6ac",
   "metadata": {
    "ExecuteTime": {
     "end_time": "2025-09-12T12:48:11.538972Z",
     "start_time": "2025-09-12T12:48:11.530894Z"
    }
   },
   "outputs": [],
   "source": [
    "import os\n",
    "import pandas as pd\n",
    "from sklearn.model_selection import KFold\n",
    "from util import set_seed"
   ]
  },
  {
   "cell_type": "code",
   "execution_count": 4,
   "id": "961fd3b6a6c10f35",
   "metadata": {
    "ExecuteTime": {
     "end_time": "2025-09-12T12:48:11.668392Z",
     "start_time": "2025-09-12T12:48:11.581874Z"
    }
   },
   "outputs": [],
   "source": [
    "spe = \"yeast2\"\n",
    "\n",
    "seed = 42\n",
    "set_seed(seed)\n",
    "\n",
    "data_dir = \"ppi-data\"\n",
    "output_dir = os.path.join(data_dir, spe, f\"kfold-{seed}\")\n",
    "# output_dir = os.path.join(data_dir, spe, \"kfold_test\")\n",
    "if not os.path.exists(output_dir):\n",
    "    os.makedirs(output_dir)\n",
    "\n",
    "data_file = os.path.join(data_dir, spe, \"action.tsv\")\n",
    "df = pd.read_csv(data_file, sep=\"\\t\", header=None)\n",
    "\n",
    "kf = KFold(n_splits=5, shuffle=True, random_state=seed)\n",
    "\n",
    "for fold, (train_index, val_index) in enumerate(kf.split(df)):\n",
    "    train_df = df.iloc[train_index]\n",
    "    val_df = df.iloc[val_index]\n",
    "\n",
    "    train_file = os.path.join(output_dir, f'train_fold_{fold + 1}.tsv')\n",
    "    val_file = os.path.join(output_dir, f'val_fold_{fold + 1}.tsv')\n",
    "\n",
    "    train_df.to_csv(train_file, sep=\"\\t\", header=None, index=False)\n",
    "    val_df.to_csv(val_file, sep=\"\\t\", header=None, index=False)\n",
    "    # train_df.head(20).to_csv(train_file, sep=\"\\t\", header=None, index=False)\n",
    "    # val_df.head(20).to_csv(val_file, sep=\"\\t\", header=None, index=False)\n"
   ]
  }
 ],
 "metadata": {
  "kernelspec": {
   "display_name": "torch",
   "language": "python",
   "name": "python3"
  },
  "language_info": {
   "codemirror_mode": {
    "name": "ipython",
    "version": 3
   },
   "file_extension": ".py",
   "mimetype": "text/x-python",
   "name": "python",
   "nbconvert_exporter": "python",
   "pygments_lexer": "ipython3",
   "version": "3.12.3"
  }
 },
 "nbformat": 4,
 "nbformat_minor": 5
}
