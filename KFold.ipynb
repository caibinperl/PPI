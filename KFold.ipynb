{
 "cells": [
  {
   "metadata": {
    "ExecuteTime": {
     "end_time": "2025-09-12T12:48:11.538972Z",
     "start_time": "2025-09-12T12:48:11.530894Z"
    }
   },
   "cell_type": "code",
   "source": [
    "import os\n",
    "\n",
    "import pandas as pd\n",
    "from sklearn.model_selection import KFold"
   ],
   "id": "1ba44d16dcdea6ac",
   "outputs": [],
   "execution_count": 12
  },
  {
   "metadata": {
    "ExecuteTime": {
     "end_time": "2025-09-12T12:48:11.668392Z",
     "start_time": "2025-09-12T12:48:11.581874Z"
    }
   },
   "cell_type": "code",
   "source": [
    "spe = \"yeast\"\n",
    "\n",
    "data_dir = \"ppi-data\"\n",
    "\n",
    "output_dir = os.path.join(data_dir, spe, \"kfold\")\n",
    "if not os.path.exists(output_dir):\n",
    "    os.makedirs(output_dir)\n",
    "\n",
    "data_file = os.path.join(data_dir, spe, \"action/train_action.tsv\")\n",
    "df = pd.read_csv(data_file, sep=\"\\t\", header=None)\n",
    "\n",
    "k=5\n",
    "shuffle=True\n",
    "random_state=None\n",
    "\n",
    "kf = KFold(n_splits=k, shuffle=shuffle, random_state=random_state)\n",
    "\n",
    "for fold, (train_index, test_index) in enumerate(kf.split(df)):\n",
    "    train_df = df.iloc[train_index]\n",
    "    test_df = df.iloc[test_index]\n",
    "\n",
    "    # 保存训练集和测试集\n",
    "    train_file = os.path.join(output_dir, f'train_fold_{fold + 1}.csv')\n",
    "    test_file = os.path.join(output_dir, f'test_fold_{fold + 1}.csv')\n",
    "\n",
    "    train_df.to_csv(train_file, header=None, index=False)\n",
    "    test_df.to_csv(test_file, header=None, index=False)\n"
   ],
   "id": "961fd3b6a6c10f35",
   "outputs": [],
   "execution_count": 13
  }
 ],
 "metadata": {
  "kernelspec": {
   "display_name": "Python 3",
   "language": "python",
   "name": "python3"
  },
  "language_info": {
   "codemirror_mode": {
    "name": "ipython",
    "version": 2
   },
   "file_extension": ".py",
   "mimetype": "text/x-python",
   "name": "python",
   "nbconvert_exporter": "python",
   "pygments_lexer": "ipython2",
   "version": "2.7.6"
  }
 },
 "nbformat": 4,
 "nbformat_minor": 5
}
