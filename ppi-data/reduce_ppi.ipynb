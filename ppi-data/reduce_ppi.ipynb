{
 "cells": [
  {
   "cell_type": "code",
   "execution_count": 1,
   "id": "29235445",
   "metadata": {},
   "outputs": [],
   "source": [
    "import os\n",
    "from Bio import SeqIO\n",
    "import subprocess"
   ]
  },
  {
   "cell_type": "markdown",
   "id": "6d779e1a",
   "metadata": {},
   "source": [
    "## Download rice (Oryza sativa) PPI from STRING\n",
    "\n",
    "We download physical interaction pairs for *Oryza sativa* from the STRING database version 12, along with their full protein sequences.\n",
    "Following the same strategy as PIPR (Cheng et al. 2019), we use CD-HIT (Fu et al., 2012) to decrease sequence redundancy of the datasets, in which two PPIs are considered similar if they share a sequence identity greater than 40%.\n",
    "\n",
    "References:\n",
    "Chen,M. et al. (2019) Multifaceted protein–protein interaction prediction based on Siamese residual RCNN. Bioinformatics, 35, i305–i314.\n",
    "Fu,L. et al. (2012) CD-HIT: accelerated for clustering the next-generation sequencing data. Bioinformatics, 28, 3150–3152"
   ]
  },
  {
   "cell_type": "code",
   "execution_count": 2,
   "id": "96c65e31",
   "metadata": {},
   "outputs": [],
   "source": [
    "# https://cn.string-db.org/\n",
    "# High confidence (0.7)\n",
    "# Include AB pairs only\n",
    "spe = \"rice\"\n",
    "link_file = \"39947.protein.physical.links.v12.0.min700.onlyAB.tsv\"\n",
    "seq_file = \"39947.protein.sequences.v12.0.fa\"\n",
    "\n",
    "ppi_file = os.path.join(spe, \"STRING\", link_file)\n",
    "fasta_file = os.path.join(spe, \"STRING\", seq_file)\n",
    "\n",
    "filtered_ppi = os.path.join(spe, \"action.tsv\")\n",
    "filtered_fasta = os.path.join(spe, \"seq.tsv\")"
   ]
  },
  {
   "cell_type": "markdown",
   "id": "208adf6b",
   "metadata": {},
   "source": [
    "## Step 1: Exclude those with < 50 amino acids"
   ]
  },
  {
   "cell_type": "code",
   "execution_count": 3,
   "id": "9e464851",
   "metadata": {},
   "outputs": [
    {
     "name": "stdout",
     "output_type": "stream",
     "text": [
      "Proteins after length filtering (>= 50 amino acids): 43240\n"
     ]
    }
   ],
   "source": [
    "protein_sequences = {\n",
    "    record.id: record\n",
    "    for record in SeqIO.parse(fasta_file, \"fasta\")\n",
    "    if len(record.seq) >= 50\n",
    "}\n",
    "\n",
    "print(f\"Proteins after length filtering (>= 50 amino acids): {len(protein_sequences)}\")\n",
    "\n",
    "positive_ppis = []\n",
    "with open(ppi_file, \"r\") as fin:\n",
    "    for i, line in enumerate(fin):\n",
    "        if i == 0:\n",
    "            continue\n",
    "        parts = line.strip().split(\"\\t\")\n",
    "        if len(parts) < 2:\n",
    "            continue\n",
    "        protein1, protein2 = parts[0], parts[1]\n",
    "        positive_ppis.append((protein1, protein2))\n",
    "\n",
    "temp_fasta = os.path.join(spe, \"temp_proteins.fasta\")\n",
    "with open(temp_fasta, \"w\") as fout:\n",
    "    for pid, record in protein_sequences.items():\n",
    "        fout.write(f\">{pid}\\n{record.seq}\\n\")\n",
    "\n"
   ]
  },
  {
   "cell_type": "code",
   "execution_count": null,
   "id": "7f57a01f",
   "metadata": {},
   "outputs": [],
   "source": [
    "# Step 2: Run CD-HIT clustering to identify proteins with >= 40% sequence identity\n",
    "output_cluster = os.path.join(spe, \"clustered_proteins\")\n",
    "\n",
    "cdhit_cmd = [\n",
    "    \"cd-hit\",\n",
    "    \"-i\", temp_fasta,\n",
    "    \"-o\", output_cluster,\n",
    "    \"-c\", \"0.4\",  # Sequence identity threshold (40%)\n",
    "    \"-n\", \"2\",  # Word length\n",
    "    \"-M\", \"32000\",  # Memory limit (MB)\n",
    "    \"-T\", \"0\"      # Use all CPU cores\n",
    "]\n",
    "\n",
    "try:\n",
    "    subprocess.run(cdhit_cmd, check=True)\n",
    "    print(\"CD-HIT clustering completed successfully\")\n",
    "except Exception as e:\n",
    "    print(f\"CD-HIT: {e}\")"
   ]
  },
  {
   "cell_type": "code",
   "execution_count": 4,
   "id": "8281b7d0",
   "metadata": {},
   "outputs": [
    {
     "name": "stdout",
     "output_type": "stream",
     "text": [
      "Representative proteins (kept): 26408\n",
      "Proteins after sequence identity filtering (>= 40% excluded): 26408\n",
      "Total proteins excluded: 16832\n"
     ]
    }
   ],
   "source": [
    "# Step 3: Process CD-HIT results to exclude proteins with >= 40% sequence identity\n",
    "# CD-HIT creates clusters where only the representative (first protein in each cluster) is kept\n",
    "# We need to identify which proteins are representatives (kept) vs clustered (excluded)\n",
    "\n",
    "representative_proteins = set()\n",
    "cluster_file = os.path.join(spe, \"clustered_proteins.clstr\")\n",
    "\n",
    "with open(cluster_file, \"r\") as fin:\n",
    "    current_cluster = []\n",
    "    for line in fin:\n",
    "        line = line.strip()\n",
    "        if line.startswith(\">Cluster\"):\n",
    "            # Process previous cluster\n",
    "            if current_cluster:\n",
    "                # First protein in cluster is representative, others are excluded\n",
    "                representative_proteins.add(current_cluster[0])\n",
    "            current_cluster = []\n",
    "        elif line:\n",
    "            # Extract protein ID from line like \"0\t1234aa, >protein_id... *\"\n",
    "            if \"*\" in line:\n",
    "                # This is the representative protein\n",
    "                protein_id = line.split(\">\")[1].split(\"...\")[0]\n",
    "                current_cluster.insert(0, protein_id)\n",
    "            else:\n",
    "                # This is a clustered protein\n",
    "                protein_id = line.split(\">\")[1].split(\"...\")[0]\n",
    "                current_cluster.append(protein_id)\n",
    "    \n",
    "    # Process last cluster\n",
    "    if current_cluster:\n",
    "        representative_proteins.add(current_cluster[0])\n",
    "\n",
    "print(f\"Representative proteins (kept): {len(representative_proteins)}\")\n",
    "\n",
    "# Filter protein_sequences to keep only representatives\n",
    "filtered_protein_sequences = {\n",
    "    pid: record for pid, record in protein_sequences.items()\n",
    "    if pid in representative_proteins\n",
    "}\n",
    "\n",
    "print(f\"Proteins after sequence identity filtering (>= 40% excluded): {len(filtered_protein_sequences)}\")\n",
    "print(f\"Total proteins excluded: {len(protein_sequences) - len(filtered_protein_sequences)}\")\n"
   ]
  },
  {
   "cell_type": "code",
   "execution_count": 5,
   "id": "5dcadd28",
   "metadata": {},
   "outputs": [
    {
     "name": "stdout",
     "output_type": "stream",
     "text": [
      "Original PPIs: 27720\n",
      "Filtered PPIs (both proteins meet criteria): 13178\n",
      "PPIs excluded: 14542\n",
      "\n",
      "=== FILTERING SUMMARY ===\n",
      "Proteins with < 50 amino acids: EXCLUDED\n",
      "Proteins with >= 40% sequence identity: EXCLUDED\n",
      "Final protein count: 26408\n",
      "Final PPI count: 13178\n"
     ]
    }
   ],
   "source": [
    "# Step 4: Filter PPIs to include only interactions between filtered proteins\n",
    "filtered_positive_ppis = []\n",
    "for protein1, protein2 in positive_ppis:\n",
    "    if protein1 in filtered_protein_sequences and protein2 in filtered_protein_sequences:\n",
    "        filtered_positive_ppis.append((protein1, protein2))\n",
    "\n",
    "print(f\"Original PPIs: {len(positive_ppis)}\")\n",
    "print(f\"Filtered PPIs (both proteins meet criteria): {len(filtered_positive_ppis)}\")\n",
    "print(f\"PPIs excluded: {len(positive_ppis) - len(filtered_positive_ppis)}\")\n",
    "\n",
    "# Summary of filtering results\n",
    "print(\"\\n=== FILTERING SUMMARY ===\")\n",
    "print(f\"Proteins with < 50 amino acids: EXCLUDED\")\n",
    "print(f\"Proteins with >= 40% sequence identity: EXCLUDED\")\n",
    "print(f\"Final protein count: {len(filtered_protein_sequences)}\")\n",
    "print(f\"Final PPI count: {len(filtered_positive_ppis)}\")\n"
   ]
  },
  {
   "cell_type": "code",
   "execution_count": 6,
   "id": "2a2ac8af",
   "metadata": {},
   "outputs": [
    {
     "name": "stdout",
     "output_type": "stream",
     "text": [
      "Filtered PPIs saved to: rice\\action.tsv\n",
      "Unique proteins in filtered PPIs: 2816\n",
      "Sequences of PPI proteins saved to: rice\\seq.tsv\n",
      "Files saved successfully!\n"
     ]
    }
   ],
   "source": [
    "# Step 5: Save filtered data to files\n",
    "# Save filtered PPIs to action.tsv\n",
    "with open(filtered_ppi, \"w\") as fout:\n",
    "    # Write filtered PPIs\n",
    "    for protein1, protein2 in filtered_positive_ppis:\n",
    "        fout.write(f\"{protein1}\\t{protein2}\\t1\\n\")\n",
    "\n",
    "print(f\"Filtered PPIs saved to: {filtered_ppi}\")\n",
    "\n",
    "# Extract unique protein IDs from filtered PPIs\n",
    "ppi_protein_ids = set()\n",
    "for protein1, protein2 in filtered_positive_ppis:\n",
    "    ppi_protein_ids.add(protein1)\n",
    "    ppi_protein_ids.add(protein2)\n",
    "\n",
    "print(f\"Unique proteins in filtered PPIs: {len(ppi_protein_ids)}\")\n",
    "\n",
    "# Save only sequences of proteins that appear in filtered PPIs to seq.tsv (TSV format)\n",
    "with open(filtered_fasta, \"w\") as fout:\n",
    "    # Write sequences only for proteins that appear in PPIs\n",
    "    for protein_id in ppi_protein_ids:\n",
    "        if protein_id in filtered_protein_sequences:\n",
    "            record = filtered_protein_sequences[protein_id]\n",
    "            fout.write(f\"{protein_id}\\t{str(record.seq)}\\n\")\n",
    "\n",
    "print(f\"Sequences of PPI proteins saved to: {filtered_fasta}\")\n",
    "print(f\"Files saved successfully!\")\n"
   ]
  }
 ],
 "metadata": {
  "kernelspec": {
   "display_name": "torch",
   "language": "python",
   "name": "python3"
  },
  "language_info": {
   "codemirror_mode": {
    "name": "ipython",
    "version": 3
   },
   "file_extension": ".py",
   "mimetype": "text/x-python",
   "name": "python",
   "nbconvert_exporter": "python",
   "pygments_lexer": "ipython3",
   "version": "3.12.3"
  }
 },
 "nbformat": 4,
 "nbformat_minor": 5
}
