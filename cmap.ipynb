{
 "cells": [
  {
   "cell_type": "code",
   "id": "6d2077dc",
   "metadata": {
    "jupyter": {
     "is_executing": true
    }
   },
   "source": [
    "import os\n",
    "import re\n",
    "import numpy as np\n",
    "from Bio import SeqIO\n",
    "from Bio import PDB"
   ],
   "outputs": [],
   "execution_count": null
  },
  {
   "cell_type": "code",
   "id": "7a43309e",
   "metadata": {},
   "source": [
    "aa_codes = {\n",
    "    \"ALA\": \"A\", \"CYS\": \"C\", \"ASP\": \"D\", \"GLU\": \"E\",\n",
    "    \"PHE\": \"F\", \"GLY\": \"G\", \"HIS\": \"H\", \"LYS\": \"K\",\n",
    "    \"ILE\": \"I\", \"LEU\": \"L\", \"MET\": \"M\", \"ASN\": \"N\",\n",
    "    \"PRO\": \"P\", \"GLN\": \"Q\", \"ARG\": \"R\", \"SER\": \"S\",\n",
    "    \"THR\": \"T\", \"VAL\": \"V\", \"TYR\": \"Y\", \"TRP\": \"W\",\n",
    "}\n",
    "\n",
    "\n",
    "def get_center_atom(residue):\n",
    "    if residue.has_id(\"CA\"):\n",
    "        c_atom = \"CA\"\n",
    "    elif residue.has_id(\"N\"):\n",
    "        c_atom = \"N\"\n",
    "    elif residue.has_id(\"C\"):\n",
    "        c_atom = \"C\"\n",
    "    elif residue.has_id(\"O\"):\n",
    "        c_atom = \"O\"\n",
    "    elif residue.has_id(\"CB\"):\n",
    "        c_atom = \"CB\"\n",
    "    elif residue.has_id(\"CD\"):\n",
    "        c_atom = \"CD\"\n",
    "    else:\n",
    "        c_atom = \"CG\"\n",
    "    return c_atom\n",
    "\n",
    "\n",
    "def calc_residue_dist(residue_one, residue_two):\n",
    "    \"\"\"Returns the C-alpha distance between two residues\"\"\"\n",
    "\n",
    "    c_atom1 = get_center_atom(residue_one)\n",
    "    c_atom2 = get_center_atom(residue_two)\n",
    "    diff_vector = residue_one[c_atom1].coord - residue_two[c_atom2].coord\n",
    "    return np.sqrt(np.sum(diff_vector * diff_vector))\n",
    "\n",
    "\n",
    "def calc_dist_matrix(chain_one, chain_two):\n",
    "    \"\"\"Returns a matrix of C-alpha distances between two chains\"\"\"\n",
    "    residue_len = 0\n",
    "    for row, residue_one in enumerate(chain_one):\n",
    "        hetfield = residue_one.get_id()[0]\n",
    "        hetname = residue_one.get_resname()\n",
    "        if hetfield == \" \" and hetname in aa_codes.keys():\n",
    "            residue_len = residue_len + 1\n",
    "    answer = np.zeros((residue_len, residue_len), np.float32)\n",
    "    x = -1\n",
    "    for residue_one in chain_one:\n",
    "        y = -1\n",
    "        hetfield1 = residue_one.get_id()[0]\n",
    "        hetname1 = residue_one.get_resname()\n",
    "        if hetfield1 == \" \" and hetname1 in aa_codes.keys():\n",
    "            x = x + 1\n",
    "            for residue_two in chain_two:\n",
    "                hetfield2 = residue_two.get_id()[0]\n",
    "                hetname2 = residue_two.get_resname()\n",
    "                if hetfield2 == \" \" and hetname2 in aa_codes.keys():\n",
    "                    y = y + 1\n",
    "                    answer[x, y] = calc_residue_dist(residue_one, residue_two)\n",
    "    for i in range(residue_len):\n",
    "        answer[i, i] = 100\n",
    "    return answer\n",
    "\n",
    "\n",
    "def calc_contact_map(spe, pdb_id, chain_id):\n",
    "    pdb_path = os.path.join(\"data\", spe, f\"AlphaFold_DB/PDB/AF-{pdb_id}-F1-model_v4.pdb\")\n",
    "    structure = PDB.PDBParser().get_structure(pdb_id, pdb_path)\n",
    "    model = structure[0]\n",
    "    dist_matrix = calc_dist_matrix(model[chain_id], model[chain_id])\n",
    "    contact_map = (dist_matrix < 8.0).astype(np.int32)\n",
    "    return contact_map\n"
   ],
   "outputs": [],
   "execution_count": null
  },
  {
   "cell_type": "code",
   "id": "d7027638",
   "metadata": {},
   "source": [
    "spe = \"rice\"\n",
    "\n",
    "seq_file  = f\"../data/rice/AlphaFold_DB/uniprotkb_proteome_UP000059680_2025_08_04.fasta\"\n",
    "\n",
    "for seq_record in SeqIO.parse(seq_file, \"fasta\"):\n",
    "    m = re.match(r\"sp\\|(\\w+)\\|\", seq_record.id)\n",
    "    if m:\n",
    "        id = m.group(1)\n",
    "        seq = str(seq_record.seq)\n",
    "        contact_map = calc_contact_map(spe, id, \"A\")\n",
    "        contact_file = os.path.join(\"data\", spe, f\"cmap/{id}.npz\")\n",
    "        np.savez(contact_file, contact=contact_map)\n"
   ],
   "outputs": [],
   "execution_count": null
  }
 ],
 "metadata": {
  "kernelspec": {
   "display_name": "torch",
   "language": "python",
   "name": "python3"
  },
  "language_info": {
   "codemirror_mode": {
    "name": "ipython",
    "version": 3
   },
   "file_extension": ".py",
   "mimetype": "text/x-python",
   "name": "python",
   "nbconvert_exporter": "python",
   "pygments_lexer": "ipython3",
   "version": "3.10.18"
  }
 },
 "nbformat": 4,
 "nbformat_minor": 5
}
