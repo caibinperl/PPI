{
 "cells": [
  {
   "cell_type": "code",
   "id": "initial_id",
   "metadata": {
    "collapsed": true,
    "ExecuteTime": {
     "end_time": "2025-09-10T08:42:03.948232Z",
     "start_time": "2025-09-10T08:42:03.940016Z"
    }
   },
   "source": [
    "import os\n",
    "import pandas as pd\n",
    "from sklearn.model_selection import train_test_split\n",
    "import random\n",
    "import numpy as np"
   ],
   "outputs": [],
   "execution_count": 18
  },
  {
   "metadata": {
    "ExecuteTime": {
     "end_time": "2025-09-10T08:42:04.838367Z",
     "start_time": "2025-09-10T08:42:04.822087Z"
    }
   },
   "cell_type": "code",
   "source": [
    "spe = \"yeast\"\n",
    "\n",
    "data_dir = \"ppi-data\"\n",
    "data_file = os.path.join(data_dir, spe, \"action/protein.action.tsv\")\n",
    "\n",
    "train_file = os.path.join(data_dir, spe, \"action/train_action.tsv\")\n",
    "val_file = os.path.join(data_dir, spe, \"action/val_action.tsv\")\n",
    "test_file = os.path.join(data_dir, spe, \"action/test_action.tsv\")\n",
    "\n",
    "seed = 1234\n",
    "np.random.seed(seed)\n",
    "random.seed(seed)\n",
    "\n",
    "df = pd.read_csv(data_file, sep=\"\\t\", header=None)\n",
    "\n",
    "X = df.iloc[:, :2]\n",
    "y = df.iloc[:, 2]\n"
   ],
   "id": "bc84d10791908075",
   "outputs": [],
   "execution_count": 19
  },
  {
   "metadata": {
    "ExecuteTime": {
     "end_time": "2025-09-10T08:42:06.851442Z",
     "start_time": "2025-09-10T08:42:06.826252Z"
    }
   },
   "cell_type": "code",
   "source": [
    "# 首先拆分训练集和临时测试集（包含验证和测试）\n",
    "X_train, X_temp, y_train, y_temp = train_test_split(\n",
    "    X, y, test_size=0.4, random_state=42, stratify=y\n",
    ")\n",
    "\n",
    "# 然后从临时测试集中拆分验证集和测试集\n",
    "X_val, X_test, y_val, y_test = train_test_split(\n",
    "    X_temp, y_temp, test_size=0.5, random_state=42, stratify=y_temp\n",
    ")"
   ],
   "id": "30cd85b9b8702508",
   "outputs": [],
   "execution_count": 20
  },
  {
   "metadata": {
    "ExecuteTime": {
     "end_time": "2025-09-10T08:42:08.781774Z",
     "start_time": "2025-09-10T08:42:08.767124Z"
    }
   },
   "cell_type": "code",
   "source": [
    "train_df = X_train.copy()\n",
    "val_df = X_val.copy()\n",
    "test_df = X_test.copy()\n",
    "train_df[\"target\"] = y_train\n",
    "val_df[\"target\"] = y_val\n",
    "test_df[\"target\"] = y_test"
   ],
   "id": "c7e3d010073e90fb",
   "outputs": [],
   "execution_count": 21
  },
  {
   "metadata": {
    "ExecuteTime": {
     "end_time": "2025-09-10T08:42:30.511621Z",
     "start_time": "2025-09-10T08:42:30.474235Z"
    }
   },
   "cell_type": "code",
   "source": [
    "train_df.to_csv(train_file, header=None, sep=\"\\t\", index = False)\n",
    "val_df.to_csv(val_file, header=None, sep=\"\\t\", index = False)\n",
    "test_df.to_csv(test_file, header=None, sep=\"\\t\", index = False)"
   ],
   "id": "79d28855665429eb",
   "outputs": [],
   "execution_count": 23
  }
 ],
 "metadata": {
  "kernelspec": {
   "display_name": "Python 3",
   "language": "python",
   "name": "python3"
  },
  "language_info": {
   "codemirror_mode": {
    "name": "ipython",
    "version": 2
   },
   "file_extension": ".py",
   "mimetype": "text/x-python",
   "name": "python",
   "nbconvert_exporter": "python",
   "pygments_lexer": "ipython2",
   "version": "2.7.6"
  }
 },
 "nbformat": 4,
 "nbformat_minor": 5
}
