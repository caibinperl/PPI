{
 "cells": [
  {
   "cell_type": "code",
   "execution_count": 1,
   "id": "initial_id",
   "metadata": {
    "ExecuteTime": {
     "end_time": "2025-09-10T08:42:03.948232Z",
     "start_time": "2025-09-10T08:42:03.940016Z"
    },
    "collapsed": true
   },
   "outputs": [],
   "source": [
    "import os\n",
    "import pandas as pd\n",
    "from sklearn.model_selection import train_test_split\n",
    "import random\n",
    "import numpy as np"
   ]
  },
  {
   "cell_type": "code",
   "execution_count": 2,
   "id": "bc84d10791908075",
   "metadata": {
    "ExecuteTime": {
     "end_time": "2025-09-10T08:42:04.838367Z",
     "start_time": "2025-09-10T08:42:04.822087Z"
    }
   },
   "outputs": [],
   "source": [
    "spe = \"yeast2\"\n",
    "\n",
    "data_dir = \"ppi-data\"\n",
    "data_file = os.path.join(data_dir, spe, \"action.tsv\")\n",
    "\n",
    "train_file = os.path.join(data_dir, spe, \"train_action.tsv\")\n",
    "test_file = os.path.join(data_dir, spe, \"test_action.tsv\")\n",
    "\n",
    "seed = 1234\n",
    "np.random.seed(seed)\n",
    "random.seed(seed)\n",
    "\n",
    "df = pd.read_csv(data_file, sep=\"\\t\", header=None)\n",
    "\n",
    "X = df.iloc[:, :2]\n",
    "y = df.iloc[:, 2]\n",
    "\n",
    "X_train, X_test, y_train, y_test = train_test_split(\n",
    "    X, y, test_size=0.2, random_state=1234, stratify=y\n",
    ")\n",
    "\n",
    "train_df = X_train.copy()\n",
    "test_df = X_test.copy()\n",
    "train_df[\"target\"] = y_train\n",
    "test_df[\"target\"] = y_test\n",
    "\n",
    "train_df.to_csv(train_file, header=None, sep=\"\\t\", index = False)\n",
    "test_df.to_csv(test_file, header=None, sep=\"\\t\", index = False)"
   ]
  }
 ],
 "metadata": {
  "kernelspec": {
   "display_name": "torch",
   "language": "python",
   "name": "python3"
  },
  "language_info": {
   "codemirror_mode": {
    "name": "ipython",
    "version": 3
   },
   "file_extension": ".py",
   "mimetype": "text/x-python",
   "name": "python",
   "nbconvert_exporter": "python",
   "pygments_lexer": "ipython3",
   "version": "3.12.3"
  }
 },
 "nbformat": 4,
 "nbformat_minor": 5
}
