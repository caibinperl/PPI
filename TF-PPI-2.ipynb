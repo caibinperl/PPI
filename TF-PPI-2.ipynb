{
 "cells": [
  {
   "cell_type": "code",
   "execution_count": null,
   "id": "e82e84cfffdc9f7c",
   "metadata": {},
   "outputs": [],
   "source": [
    "import os\n",
    "\n",
    "import torch\n",
    "import torch.nn as nn\n",
    "import torch.nn.functional as F\n",
    "import torch.optim as optim\n",
    "\n",
    "from util import TransformerLayer, TransformerEncoder\n",
    "from util import set_seed, load_data\n",
    "from util import train_model, eval_model"
   ]
  },
  {
   "cell_type": "code",
   "execution_count": null,
   "id": "909212b2",
   "metadata": {},
   "outputs": [],
   "source": [
    "import torch\n",
    "import torch.nn as nn\n",
    "from transformers import EsmModel, EsmTokenizer\n",
    "import warnings\n",
    "\n",
    "# 忽略警告\n",
    "warnings.filterwarnings(\"ignore\")\n",
    "\n",
    "class PPIModel(nn.Module):\n",
    "    def __init__(self, model_name=\"facebook/esm2_t33_650M_UR50D\", hidden_dim=512, dropout=0.1):\n",
    "        super(PPIModel, self).__init__()\n",
    "        \n",
    "        # 加载ESM模型，不添加pooling层\n",
    "        self.esm = EsmModel.from_pretrained(\n",
    "            model_name, \n",
    "            add_pooling_layer=False  # 关键：不使用pooler层\n",
    "        )\n",
    "        self.tokenizer = EsmTokenizer.from_pretrained(model_name)\n",
    "        \n",
    "        esm_dim = self.esm.config.hidden_size\n",
    "        \n",
    "        # 自定义的交互分类器\n",
    "        self.classifier = nn.Sequential(\n",
    "            nn.Linear(esm_dim * 2, hidden_dim),  # 两个蛋白质的表示拼接\n",
    "            nn.ReLU(),\n",
    "            nn.Dropout(dropout),\n",
    "            nn.Linear(hidden_dim, hidden_dim // 2),\n",
    "            nn.ReLU(),\n",
    "            nn.Dropout(dropout),\n",
    "            nn.Linear(hidden_dim // 2, 1),  # 二分类输出\n",
    "            nn.Sigmoid()\n",
    "        )\n",
    "        \n",
    "    def forward(self, seq_a, seq_b):\n",
    "        # 获取蛋白质A的表示\n",
    "        emb_a = self._get_protein_embedding(seq_a)\n",
    "        # 获取蛋白质B的表示  \n",
    "        emb_b = self._get_protein_embedding(seq_b)\n",
    "        \n",
    "        # 拼接两个表示并分类\n",
    "        combined = torch.cat([emb_a, emb_b], dim=-1)\n",
    "        output = self.classifier(combined)\n",
    "        return output.squeeze()\n",
    "    \n",
    "    def _get_protein_embedding(self, sequence):\n",
    "        \"\"\"提取蛋白质序列的嵌入表示\"\"\"\n",
    "        inputs = self.tokenizer(\n",
    "            sequence, \n",
    "            return_tensors=\"pt\", \n",
    "            padding=True, \n",
    "            truncation=True,\n",
    "            max_length=1024\n",
    "        )\n",
    "        \n",
    "        # 将输入移动到模型所在的设备\n",
    "        inputs = {k: v.to(next(self.esm.parameters()).device) for k, v in inputs.items()}\n",
    "        \n",
    "        with torch.no_grad():\n",
    "            outputs = self.esm(**inputs)\n",
    "        \n",
    "        # 使用平均池化获取整个序列的表示\n",
    "        sequence_embedding = outputs.last_hidden_state.mean(dim=1)\n",
    "        return sequence_embedding\n"
   ]
  },
  {
   "cell_type": "code",
   "execution_count": null,
   "id": "6acca681",
   "metadata": {},
   "outputs": [],
   "source": [
    "model = PPIModel()\n",
    "    \n",
    "# 示例蛋白质序列\n",
    "protein_a = \"MALWMRLLPLLALLALWGPDPAAAFVNQHLCGSHLVEALYLVCGERGFFYTPKTRREAED\"\n",
    "protein_b = \"GIVEQCCTSICSLYQLENYCN\"\n",
    "\n",
    "# 预测互作概率\n",
    "with torch.no_grad():\n",
    "    probability = model(protein_a, protein_b)\n",
    "    print(f\"相互作用概率: {probability.item():.4f}\")"
   ]
  },
  {
   "cell_type": "code",
   "execution_count": null,
   "id": "b3eaf0f9",
   "metadata": {},
   "outputs": [
    {
     "data": {
      "application/vnd.jupyter.widget-view+json": {
       "model_id": "1b3409fb929240c6842cbf12fc18b65d",
       "version_major": 2,
       "version_minor": 0
      },
      "text/plain": [
       "tokenizer_config.json:   0%|          | 0.00/95.0 [00:00<?, ?B/s]"
      ]
     },
     "metadata": {},
     "output_type": "display_data"
    },
    {
     "name": "stderr",
     "output_type": "stream",
     "text": [
      "c:\\Users\\bc\\miniconda3\\envs\\torch\\Lib\\site-packages\\huggingface_hub\\file_download.py:143: UserWarning: `huggingface_hub` cache-system uses symlinks by default to efficiently store duplicated files but your machine does not support them in C:\\Users\\bc\\.cache\\huggingface\\hub\\models--facebook--esm2_t33_650M_UR50D. Caching files will still work but in a degraded version that might require more space on your disk. This warning can be disabled by setting the `HF_HUB_DISABLE_SYMLINKS_WARNING` environment variable. For more details, see https://huggingface.co/docs/huggingface_hub/how-to-cache#limitations.\n",
      "To support symlinks on Windows, you either need to activate Developer Mode or to run Python as an administrator. In order to activate developer mode, see this article: https://docs.microsoft.com/en-us/windows/apps/get-started/enable-your-device-for-development\n",
      "  warnings.warn(message)\n"
     ]
    },
    {
     "data": {
      "application/vnd.jupyter.widget-view+json": {
       "model_id": "fd1896be2f9d474c8ba2a60b52ea4999",
       "version_major": 2,
       "version_minor": 0
      },
      "text/plain": [
       "vocab.txt:   0%|          | 0.00/93.0 [00:00<?, ?B/s]"
      ]
     },
     "metadata": {},
     "output_type": "display_data"
    },
    {
     "data": {
      "application/vnd.jupyter.widget-view+json": {
       "model_id": "4e426b02c1b24275a4f2ec2a83296b16",
       "version_major": 2,
       "version_minor": 0
      },
      "text/plain": [
       "special_tokens_map.json:   0%|          | 0.00/125 [00:00<?, ?B/s]"
      ]
     },
     "metadata": {},
     "output_type": "display_data"
    },
    {
     "data": {
      "application/vnd.jupyter.widget-view+json": {
       "model_id": "c5b86cc7ac154a989e45b64dbf74c300",
       "version_major": 2,
       "version_minor": 0
      },
      "text/plain": [
       "config.json:   0%|          | 0.00/724 [00:00<?, ?B/s]"
      ]
     },
     "metadata": {},
     "output_type": "display_data"
    },
    {
     "data": {
      "application/vnd.jupyter.widget-view+json": {
       "model_id": "4b9e718c0a814b2d999dc320ad888f2a",
       "version_major": 2,
       "version_minor": 0
      },
      "text/plain": [
       "model.safetensors:   0%|          | 0.00/2.61G [00:00<?, ?B/s]"
      ]
     },
     "metadata": {},
     "output_type": "display_data"
    },
    {
     "name": "stderr",
     "output_type": "stream",
     "text": [
      "Some weights of EsmModel were not initialized from the model checkpoint at facebook/esm2_t33_650M_UR50D and are newly initialized: ['pooler.dense.bias', 'pooler.dense.weight']\n",
      "You should probably TRAIN this model on a down-stream task to be able to use it for predictions and inference.\n"
     ]
    }
   ],
   "source": [
    "# 加载中等规模的ESM-2模型\n",
    "model_name = \"facebook/esm2_t33_650M_UR50D\"\n",
    "tokenizer = EsmTokenizer.from_pretrained(model_name)\n",
    "model = EsmModel.from_pretrained(model_name)"
   ]
  },
  {
   "cell_type": "code",
   "execution_count": 3,
   "id": "d9506e8a",
   "metadata": {},
   "outputs": [
    {
     "name": "stderr",
     "output_type": "stream",
     "text": [
      "Asking to truncate to max_length but no maximum length is provided and the model has no predefined maximum length. Default to no truncation.\n"
     ]
    }
   ],
   "source": [
    "# 准备蛋白质序列\n",
    "sequence = \"MALWMRLLPLLALLALWGPDPAAAFVNQHLCGSHLVEALYLVCGERGFFYTPKTRREAED\"\n",
    "\n",
    "# 编码和推理\n",
    "inputs = tokenizer(sequence, return_tensors=\"pt\", padding=True, truncation=True)\n"
   ]
  },
  {
   "cell_type": "code",
   "execution_count": 4,
   "id": "f79970c2",
   "metadata": {},
   "outputs": [
    {
     "data": {
      "text/plain": [
       "{'input_ids': tensor([[ 0, 20,  5,  4, 22, 20, 10,  4,  4, 14,  4,  4,  5,  4,  4,  5,  4, 22,\n",
       "          6, 14, 13, 14,  5,  5,  5, 18,  7, 17, 16, 21,  4, 23,  6,  8, 21,  4,\n",
       "          7,  9,  5,  4, 19,  4,  7, 23,  6,  9, 10,  6, 18, 18, 19, 11, 14, 15,\n",
       "         11, 10, 10,  9,  5,  9, 13,  2]]), 'attention_mask': tensor([[1, 1, 1, 1, 1, 1, 1, 1, 1, 1, 1, 1, 1, 1, 1, 1, 1, 1, 1, 1, 1, 1, 1, 1,\n",
       "         1, 1, 1, 1, 1, 1, 1, 1, 1, 1, 1, 1, 1, 1, 1, 1, 1, 1, 1, 1, 1, 1, 1, 1,\n",
       "         1, 1, 1, 1, 1, 1, 1, 1, 1, 1, 1, 1, 1, 1]])}"
      ]
     },
     "execution_count": 4,
     "metadata": {},
     "output_type": "execute_result"
    }
   ],
   "source": [
    "inputs"
   ]
  },
  {
   "cell_type": "code",
   "execution_count": null,
   "id": "b3e53959",
   "metadata": {},
   "outputs": [],
   "source": [
    "with torch.no_grad():\n",
    "    outputs = model(**inputs)\n",
    "    \n",
    "print(\"安装成功！模型输出形状:\", outputs.last_hidden_state.shape)"
   ]
  },
  {
   "cell_type": "code",
   "execution_count": null,
   "id": "6b975059d40c90f4",
   "metadata": {},
   "outputs": [],
   "source": [
    "class Featuring(nn.Module):\n",
    "    def __init__(self, input_dim, feature_dim):\n",
    "        super().__init__()\n",
    "\n",
    "        self.feature_dim = feature_dim\n",
    "\n",
    "        self.conv1 = nn.Conv1d(input_dim, feature_dim, kernel_size=3,\n",
    "                               padding=1)\n",
    "        layer1 = TransformerLayer(n_heads=3, d_model=feature_dim,\n",
    "                                  ff_units=10, dropout=0.2)\n",
    "        self.encoder1 = TransformerEncoder(layer1, n_layers=2)\n",
    "\n",
    "        self.conv2 = nn.Conv1d(2 * feature_dim, feature_dim, kernel_size=3,\n",
    "                               padding=1)\n",
    "        layer2 = TransformerLayer(n_heads=3, d_model=feature_dim,\n",
    "                                  ff_units=10, dropout=0.2)\n",
    "        self.encoder2 = TransformerEncoder(layer2, n_layers=2)\n",
    "\n",
    "        self.conv3 = nn.Conv1d(2 * feature_dim, feature_dim, kernel_size=3,\n",
    "                               padding=1)\n",
    "        layer3 = TransformerLayer(n_heads=3, d_model=feature_dim,\n",
    "                                  ff_units=10, dropout=0.2)\n",
    "        self.encoder3 = TransformerEncoder(layer3, n_layers=2)\n",
    "\n",
    "        self.conv4 = nn.Conv1d(2 * feature_dim, feature_dim, kernel_size=3,\n",
    "                               padding=1)\n",
    "        layer4 = TransformerLayer(n_heads=3, d_model=feature_dim,\n",
    "                                  ff_units=10, dropout=0.2)\n",
    "        self.encoder4 = TransformerEncoder(layer4, n_layers=2)\n",
    "\n",
    "        self.conv5 = nn.Conv1d(2 * feature_dim, feature_dim, kernel_size=3,\n",
    "                               padding=1)\n",
    "\n",
    "        self.pool = nn.MaxPool1d(kernel_size=3, stride=3)\n",
    "        # self.adaptive_pool = nn.AdaptiveAvgPool1d(1)\n",
    "\n",
    "    def forward(self, x):\n",
    "        x = x.permute(0, 2, 1)  # b, input_dim, 2000\n",
    "\n",
    "        # First layer\n",
    "        x = self.conv1(x)  # b, feature_dim, 2000,\n",
    "        x = self.pool(x)  # b, feature_dim, 666\n",
    "        x = x.permute(0, 2, 1)  # n, 666, feature_dim\n",
    "        e = self.encoder1(x)  # b, 666, feature_dim\n",
    "        x = x.permute(0, 2, 1)  # b, feature_dim, 666\n",
    "        e = e.permute(0, 2, 1)  # b, feature_dim, 666\n",
    "        x = torch.cat([e, x], dim=1)  # b, 2*feature_dim, 666\n",
    "\n",
    "        # Second layer\n",
    "        x = self.conv2(x)\n",
    "        x = self.pool(x)\n",
    "        x = x.permute(0, 2, 1)\n",
    "        e = self.encoder2(x)\n",
    "        x = x.permute(0, 2, 1)\n",
    "        e = e.permute(0, 2, 1)\n",
    "        x = torch.cat([e, x], dim=1)  # b, 2*feature_dim, 222\n",
    "\n",
    "        # Third layer\n",
    "        x = self.conv3(x)\n",
    "        x = self.pool(x)\n",
    "        x = x.permute(0, 2, 1)\n",
    "        e = self.encoder3(x)\n",
    "        x = x.permute(0, 2, 1)\n",
    "        e = e.permute(0, 2, 1)\n",
    "        x = torch.cat([e, x], dim=1)  # b, 2*feature_dim, 77\n",
    "\n",
    "        # Fourth layer\n",
    "        x = self.conv4(x)\n",
    "        x = self.pool(x)\n",
    "        x = x.permute(0, 2, 1)\n",
    "        e = self.encoder4(x)\n",
    "        x = x.permute(0, 2, 1)\n",
    "        e = e.permute(0, 2, 1)\n",
    "        x = torch.cat([e, x], dim=1)  # b, 2*feature_dim, 28\n",
    "\n",
    "        x = self.conv5(x)  # b, feature_dim, 28\n",
    "        # x = self.adaptive_pool(x) # b, feature_dim, 1\n",
    "        # x = x.squeeze(-1)  # b, feature_dim\n",
    "        x = x.permute(0, 2, 1)  # b, 28, feature_dim\n",
    "        return x\n",
    "\n",
    "\n",
    "class Classifier(nn.Module):\n",
    "    def __init__(self, input_dim):\n",
    "        super().__init__()\n",
    "\n",
    "        self.fc1 = nn.Linear(input_dim, 2 * input_dim)\n",
    "        self.bn1 = nn.BatchNorm1d(2 * input_dim)\n",
    "        self.fc2 = nn.Linear(2 * input_dim, input_dim)\n",
    "        self.bn2 = nn.BatchNorm1d(input_dim)\n",
    "        self.fc3 = nn.Linear(input_dim, input_dim // 2)\n",
    "        self.bn3 = nn.BatchNorm1d(input_dim // 2)\n",
    "        self.fc4 = nn.Linear(input_dim // 2, input_dim // 4)\n",
    "        self.bn4 = nn.BatchNorm1d(input_dim // 4)\n",
    "        self.fc5 = nn.Linear(input_dim // 4, 1)\n",
    "\n",
    "        self.dropout = nn.Dropout(0.5)\n",
    "        self.leaky_relu = nn.LeakyReLU(0.3)\n",
    "\n",
    "    def forward(self, x):\n",
    "        x = self.fc1(x)\n",
    "        x = self.bn1(x)\n",
    "        x = self.leaky_relu(x)\n",
    "        x = self.dropout(x)\n",
    "\n",
    "        x = self.fc2(x)\n",
    "        x = self.bn2(x)\n",
    "        x = self.leaky_relu(x)\n",
    "        x = self.dropout(x)\n",
    "\n",
    "        x = self.fc3(x)\n",
    "        x = self.bn3(x)\n",
    "        x = self.leaky_relu(x)\n",
    "        x = self.dropout(x)\n",
    "\n",
    "        x = self.fc4(x)\n",
    "        x = self.bn4(x)\n",
    "        x = self.leaky_relu(x)\n",
    "        x = self.dropout(x)\n",
    "\n",
    "        x = self.fc5(x)\n",
    "\n",
    "        x = x.squeeze(-1)\n",
    "        x = F.sigmoid(x)\n",
    "\n",
    "        return x\n",
    "\n",
    "\n",
    "class InteractionModel(nn.Module):\n",
    "    def __init__(self, featuring, classifier):\n",
    "        super().__init__()\n",
    "\n",
    "        self.featuring = featuring\n",
    "        self.classifier = classifier\n",
    "        layer = TransformerLayer(n_heads=3,\n",
    "                                 d_model=2 * self.featuring.feature_dim,\n",
    "                                 ff_units=10, dropout=0.5)\n",
    "        self.encoder = TransformerEncoder(layer, n_layers=2)\n",
    "\n",
    "    def forward(self, x1, x2):\n",
    "        x1 = self.featuring(x1)  # b, 28, feature_dim\n",
    "        x2 = self.featuring(x2)  # b, 28, feature_dim\n",
    "        x = torch.cat((x1, x2), dim=2)  # b, 28, 2*feature_dim\n",
    "        x = self.encoder(x)\n",
    "        x = torch.mean(x, dim=1)  # b, 2*feature_dim\n",
    "        x = self.classifier(x)\n",
    "        return x"
   ]
  },
  {
   "cell_type": "code",
   "execution_count": null,
   "id": "84ce5d5029c81a17",
   "metadata": {},
   "outputs": [],
   "source": [
    "\n",
    "spe = \"yeast\"\n",
    "\n",
    "# data_dir = \"ppi-data\"\n",
    "# train_file = os.path.join(data_dir, spe, \"action/train_action_20.tsv\")\n",
    "# val_file = os.path.join(data_dir, spe, \"action/val_action_10.tsv\")\n",
    "# test_file = os.path.join(data_dir, spe, \"action/test_action_10.tsv\")\n",
    "# epochs = 10\n",
    "\n",
    "from google.colab import drive\n",
    "\n",
    "drive.mount('/content/drive')\n",
    "data_dir = \"drive/MyDrive/ppi-data\"\n",
    "train_file = os.path.join(data_dir, spe, \"action/train_action.tsv\")\n",
    "val_file = os.path.join(data_dir, spe, \"action/val_action.tsv\")\n",
    "test_file = os.path.join(data_dir, spe, \"action/test_action.tsv\")\n",
    "epochs = 50\n",
    "\n",
    "embedding_h5 = os.path.join(data_dir, spe, \"seq/pipr.embedding.h5\")\n",
    "\n",
    "input_dim = 13\n",
    "feature_dim = 24\n",
    "batch_size = 32\n",
    "lr = 0.0001\n",
    "\n",
    "set_seed(1234)\n",
    "\n",
    "device = \"cuda\" if torch.cuda.is_available() else \"cpu\"\n",
    "\n",
    "train_loader = load_data(train_file, batch_size, embedding_h5, train=True)\n",
    "val_loader = load_data(val_file, batch_size, embedding_h5, train=False)\n",
    "test_loader = load_data(test_file, batch_size, embedding_h5, train=False)\n"
   ]
  },
  {
   "cell_type": "code",
   "execution_count": null,
   "id": "56a20e57f6705bfc",
   "metadata": {},
   "outputs": [],
   "source": [
    "featuring = Featuring(input_dim, feature_dim)\n",
    "classifier = Classifier(2 * feature_dim)\n",
    "\n",
    "model = InteractionModel(featuring, classifier)\n",
    "model.to(device)\n",
    "\n",
    "optimizer = optim.Adam(model.parameters(), lr=lr)"
   ]
  },
  {
   "cell_type": "code",
   "execution_count": null,
   "id": "b5738d79d50204d1",
   "metadata": {},
   "outputs": [],
   "source": [
    "train_model(model, train_loader, val_loader, optimizer, epochs, device)\n",
    "\n",
    "eval_model(model, test_loader, device)"
   ]
  }
 ],
 "metadata": {
  "kernelspec": {
   "display_name": "torch",
   "language": "python",
   "name": "python3"
  },
  "language_info": {
   "codemirror_mode": {
    "name": "ipython",
    "version": 3
   },
   "file_extension": ".py",
   "mimetype": "text/x-python",
   "name": "python",
   "nbconvert_exporter": "python",
   "pygments_lexer": "ipython3",
   "version": "3.12.3"
  }
 },
 "nbformat": 4,
 "nbformat_minor": 5
}
